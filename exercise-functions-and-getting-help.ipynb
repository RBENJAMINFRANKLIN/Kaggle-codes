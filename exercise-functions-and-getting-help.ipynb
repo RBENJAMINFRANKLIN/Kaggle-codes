{
 "cells": [
  {
   "cell_type": "markdown",
   "id": "ed4177fb",
   "metadata": {
    "papermill": {
     "duration": 0.004682,
     "end_time": "2025-05-17T05:49:39.215732",
     "exception": false,
     "start_time": "2025-05-17T05:49:39.211050",
     "status": "completed"
    },
    "tags": []
   },
   "source": [
    "**This notebook is an exercise in the [Python](https://www.kaggle.com/learn/python) course.  You can reference the tutorial at [this link](https://www.kaggle.com/colinmorris/functions-and-getting-help).**\n",
    "\n",
    "---\n"
   ]
  },
  {
   "cell_type": "markdown",
   "id": "2502c41b",
   "metadata": {
    "papermill": {
     "duration": 0.003277,
     "end_time": "2025-05-17T05:49:39.223225",
     "exception": false,
     "start_time": "2025-05-17T05:49:39.219948",
     "status": "completed"
    },
    "tags": []
   },
   "source": [
    "Functions are powerful. Try writing some yourself.\n",
    "\n",
    "As before, don't forget to run the setup code below before jumping into question 1."
   ]
  },
  {
   "cell_type": "code",
   "execution_count": 1,
   "id": "c3546278",
   "metadata": {
    "_kg_hide-input": true,
    "_kg_hide-output": true,
    "execution": {
     "iopub.execute_input": "2025-05-17T05:49:39.232326Z",
     "iopub.status.busy": "2025-05-17T05:49:39.231347Z",
     "iopub.status.idle": "2025-05-17T05:49:41.211396Z",
     "shell.execute_reply": "2025-05-17T05:49:41.210205Z"
    },
    "papermill": {
     "duration": 1.98637,
     "end_time": "2025-05-17T05:49:41.213245",
     "exception": false,
     "start_time": "2025-05-17T05:49:39.226875",
     "status": "completed"
    },
    "tags": []
   },
   "outputs": [
    {
     "name": "stdout",
     "output_type": "stream",
     "text": [
      "Setup complete.\n"
     ]
    }
   ],
   "source": [
    "# SETUP. You don't need to worry for now about what this code does or how it works.\n",
    "from learntools.core import binder; binder.bind(globals())\n",
    "from learntools.python.ex2 import *\n",
    "print('Setup complete.')"
   ]
  },
  {
   "cell_type": "markdown",
   "id": "d42ba722",
   "metadata": {
    "papermill": {
     "duration": 0.003303,
     "end_time": "2025-05-17T05:49:41.220208",
     "exception": false,
     "start_time": "2025-05-17T05:49:41.216905",
     "status": "completed"
    },
    "tags": []
   },
   "source": [
    "# 1.\n",
    "\n",
    "Complete the body of the following function according to its docstring.\n",
    "\n",
    "HINT: Python has a built-in function `round`."
   ]
  },
  {
   "cell_type": "code",
   "execution_count": 2,
   "id": "fc64b279",
   "metadata": {
    "execution": {
     "iopub.execute_input": "2025-05-17T05:49:41.229437Z",
     "iopub.status.busy": "2025-05-17T05:49:41.228474Z",
     "iopub.status.idle": "2025-05-17T05:49:41.238426Z",
     "shell.execute_reply": "2025-05-17T05:49:41.237358Z"
    },
    "papermill": {
     "duration": 0.016192,
     "end_time": "2025-05-17T05:49:41.240129",
     "exception": false,
     "start_time": "2025-05-17T05:49:41.223937",
     "status": "completed"
    },
    "tags": []
   },
   "outputs": [
    {
     "data": {
      "application/javascript": [
       "parent.postMessage({\"jupyterEvent\": \"custom.exercise_interaction\", \"data\": {\"outcomeType\": 1, \"valueTowardsCompletion\": 0.16666666666666666, \"interactionType\": 1, \"questionType\": 2, \"questionId\": \"1_RoundFunctionProblem\", \"learnToolsVersion\": \"0.3.5\", \"failureMessage\": \"\", \"exceptionClass\": \"\", \"trace\": \"\"}}, \"*\")"
      ],
      "text/plain": [
       "<IPython.core.display.Javascript object>"
      ]
     },
     "metadata": {},
     "output_type": "display_data"
    },
    {
     "data": {
      "text/markdown": [
       "<span style=\"color:#33cc33\">Correct</span>"
      ],
      "text/plain": [
       "Correct"
      ]
     },
     "metadata": {},
     "output_type": "display_data"
    }
   ],
   "source": [
    "def round_to_two_places(num):\n",
    "    \"\"\"Return the given number rounded to two decimal places. \n",
    "    \n",
    "    >>> round_to_two_places(3.14159)\n",
    "    3.14\n",
    "    \"\"\"\n",
    "    # Replace this body with your own code.\n",
    "    # (\"pass\" is a keyword that does literally nothing. We used it as a placeholder\n",
    "    # because after we begin a code block, Python requires at least one line of code)\n",
    "    return round(num,2)\n",
    "\n",
    "# Check your answer\n",
    "q1.check()"
   ]
  },
  {
   "cell_type": "code",
   "execution_count": 3,
   "id": "5dfd8690",
   "metadata": {
    "execution": {
     "iopub.execute_input": "2025-05-17T05:49:41.249684Z",
     "iopub.status.busy": "2025-05-17T05:49:41.249334Z",
     "iopub.status.idle": "2025-05-17T05:49:41.253627Z",
     "shell.execute_reply": "2025-05-17T05:49:41.252678Z"
    },
    "papermill": {
     "duration": 0.011022,
     "end_time": "2025-05-17T05:49:41.255177",
     "exception": false,
     "start_time": "2025-05-17T05:49:41.244155",
     "status": "completed"
    },
    "tags": []
   },
   "outputs": [],
   "source": [
    "# Uncomment the following for a hint\n",
    "#q1.hint()\n",
    "# Or uncomment the following to peek at the solution\n",
    "#q1.solution()"
   ]
  },
  {
   "cell_type": "markdown",
   "id": "17b2395c",
   "metadata": {
    "papermill": {
     "duration": 0.004,
     "end_time": "2025-05-17T05:49:41.263122",
     "exception": false,
     "start_time": "2025-05-17T05:49:41.259122",
     "status": "completed"
    },
    "tags": []
   },
   "source": [
    "# 2.\n",
    "The help for `round` says that `ndigits` (the second argument) may be negative.\n",
    "What do you think will happen when it is? Try some examples in the following cell."
   ]
  },
  {
   "cell_type": "code",
   "execution_count": 4,
   "id": "35c7074c",
   "metadata": {
    "execution": {
     "iopub.execute_input": "2025-05-17T05:49:41.273675Z",
     "iopub.status.busy": "2025-05-17T05:49:41.272615Z",
     "iopub.status.idle": "2025-05-17T05:49:41.278901Z",
     "shell.execute_reply": "2025-05-17T05:49:41.278051Z"
    },
    "papermill": {
     "duration": 0.013039,
     "end_time": "2025-05-17T05:49:41.280429",
     "exception": false,
     "start_time": "2025-05-17T05:49:41.267390",
     "status": "completed"
    },
    "tags": []
   },
   "outputs": [
    {
     "data": {
      "text/plain": [
       "-1.1"
      ]
     },
     "execution_count": 4,
     "metadata": {},
     "output_type": "execute_result"
    }
   ],
   "source": [
    "# Put your test code here\n",
    "round_to_two_places(-1.09999)"
   ]
  },
  {
   "cell_type": "markdown",
   "id": "b3b3a6f9",
   "metadata": {
    "papermill": {
     "duration": 0.004137,
     "end_time": "2025-05-17T05:49:41.288606",
     "exception": false,
     "start_time": "2025-05-17T05:49:41.284469",
     "status": "completed"
    },
    "tags": []
   },
   "source": [
    "Can you think of a case where this would be useful?  Once you're ready, run the code cell below to see the answer and to receive credit for completing the problem."
   ]
  },
  {
   "cell_type": "code",
   "execution_count": 5,
   "id": "355c9f80",
   "metadata": {
    "execution": {
     "iopub.execute_input": "2025-05-17T05:49:41.297566Z",
     "iopub.status.busy": "2025-05-17T05:49:41.297103Z",
     "iopub.status.idle": "2025-05-17T05:49:41.304561Z",
     "shell.execute_reply": "2025-05-17T05:49:41.303791Z"
    },
    "papermill": {
     "duration": 0.01375,
     "end_time": "2025-05-17T05:49:41.306160",
     "exception": false,
     "start_time": "2025-05-17T05:49:41.292410",
     "status": "completed"
    },
    "tags": []
   },
   "outputs": [
    {
     "data": {
      "application/javascript": [
       "parent.postMessage({\"jupyterEvent\": \"custom.exercise_interaction\", \"data\": {\"interactionType\": 3, \"questionType\": 4, \"questionId\": \"2_RoundNdigitsProblem\", \"learnToolsVersion\": \"0.3.5\", \"valueTowardsCompletion\": 0.0, \"failureMessage\": \"\", \"exceptionClass\": \"\", \"trace\": \"\", \"outcomeType\": 4}}, \"*\")"
      ],
      "text/plain": [
       "<IPython.core.display.Javascript object>"
      ]
     },
     "metadata": {},
     "output_type": "display_data"
    },
    {
     "data": {
      "text/markdown": [
       "<span style=\"color:#33cc99\">Solution:</span> As you've seen, `ndigits=-1` rounds to the nearest 10, `ndigits=-2` rounds to the nearest 100 and so on. Where might this be useful? Suppose we're dealing with large numbers:\n",
       "\n",
       "> The area of Finland is 338,424 km²  \n",
       "> The area of Greenland is 2,166,086 km²\n",
       "\n",
       "We probably don't care whether it's really 338,424, or 338,425, or 338,177. All those digits of accuracy are just distracting. We can chop them off by calling `round()` with `ndigits=-3`:\n",
       "\n",
       "> The area of Finland is 338,000 km²  \n",
       "> The area of Greenland is 2,166,000 km²\n",
       "\n",
       "(We'll talk about how we would get the commas later when we talk about string formatting :))\n"
      ],
      "text/plain": [
       "Solution: As you've seen, `ndigits=-1` rounds to the nearest 10, `ndigits=-2` rounds to the nearest 100 and so on. Where might this be useful? Suppose we're dealing with large numbers:\n",
       "\n",
       "> The area of Finland is 338,424 km²  \n",
       "> The area of Greenland is 2,166,086 km²\n",
       "\n",
       "We probably don't care whether it's really 338,424, or 338,425, or 338,177. All those digits of accuracy are just distracting. We can chop them off by calling `round()` with `ndigits=-3`:\n",
       "\n",
       "> The area of Finland is 338,000 km²  \n",
       "> The area of Greenland is 2,166,000 km²\n",
       "\n",
       "(We'll talk about how we would get the commas later when we talk about string formatting :))"
      ]
     },
     "metadata": {},
     "output_type": "display_data"
    }
   ],
   "source": [
    "# Check your answer (Run this code cell to receive credit!)\n",
    "q2.solution()"
   ]
  },
  {
   "cell_type": "markdown",
   "id": "54036575",
   "metadata": {
    "papermill": {
     "duration": 0.003663,
     "end_time": "2025-05-17T05:49:41.314019",
     "exception": false,
     "start_time": "2025-05-17T05:49:41.310356",
     "status": "completed"
    },
    "tags": []
   },
   "source": [
    "# 3.\n",
    "\n",
    "In the previous exercise, the candy-sharing friends Alice, Bob and Carol tried to split candies evenly. For the sake of their friendship, any candies left over would be smashed. For example, if they collectively bring home 91 candies, they'll take 30 each and smash 1.\n",
    "\n",
    "Below is a simple function that will calculate the number of candies to smash for *any* number of total candies.\n",
    "\n",
    "Modify it so that it optionally takes a second argument representing the number of friends the candies are being split between. If no second argument is provided, it should assume 3 friends, as before.\n",
    "\n",
    "Update the docstring to reflect this new behaviour."
   ]
  },
  {
   "cell_type": "code",
   "execution_count": 6,
   "id": "b437eeeb",
   "metadata": {
    "execution": {
     "iopub.execute_input": "2025-05-17T05:49:41.323584Z",
     "iopub.status.busy": "2025-05-17T05:49:41.322718Z",
     "iopub.status.idle": "2025-05-17T05:49:41.330435Z",
     "shell.execute_reply": "2025-05-17T05:49:41.329618Z"
    },
    "papermill": {
     "duration": 0.014115,
     "end_time": "2025-05-17T05:49:41.331989",
     "exception": false,
     "start_time": "2025-05-17T05:49:41.317874",
     "status": "completed"
    },
    "tags": []
   },
   "outputs": [
    {
     "data": {
      "application/javascript": [
       "parent.postMessage({\"jupyterEvent\": \"custom.exercise_interaction\", \"data\": {\"outcomeType\": 1, \"valueTowardsCompletion\": 0.16666666666666666, \"interactionType\": 1, \"questionType\": 2, \"questionId\": \"3_CandySmashingFunctionProblem\", \"learnToolsVersion\": \"0.3.5\", \"failureMessage\": \"\", \"exceptionClass\": \"\", \"trace\": \"\"}}, \"*\")"
      ],
      "text/plain": [
       "<IPython.core.display.Javascript object>"
      ]
     },
     "metadata": {},
     "output_type": "display_data"
    },
    {
     "data": {
      "text/markdown": [
       "<span style=\"color:#33cc33\">Correct</span>"
      ],
      "text/plain": [
       "Correct"
      ]
     },
     "metadata": {},
     "output_type": "display_data"
    }
   ],
   "source": [
    "def to_smash(total_candies,num = 3):\n",
    "    \"\"\"Return the number of leftover candies that must be smashed after distributing\n",
    "    the given number of candies evenly between 3 friends.\n",
    "    \n",
    "    >>> to_smash(91)\n",
    "    1\n",
    "    \"\"\"\n",
    "    return total_candies % num\n",
    "\n",
    "# Check your answer\n",
    "q3.check()"
   ]
  },
  {
   "cell_type": "code",
   "execution_count": 7,
   "id": "986dcc51",
   "metadata": {
    "execution": {
     "iopub.execute_input": "2025-05-17T05:49:41.342630Z",
     "iopub.status.busy": "2025-05-17T05:49:41.342162Z",
     "iopub.status.idle": "2025-05-17T05:49:41.349959Z",
     "shell.execute_reply": "2025-05-17T05:49:41.348989Z"
    },
    "papermill": {
     "duration": 0.015346,
     "end_time": "2025-05-17T05:49:41.351966",
     "exception": false,
     "start_time": "2025-05-17T05:49:41.336620",
     "status": "completed"
    },
    "tags": []
   },
   "outputs": [
    {
     "data": {
      "application/javascript": [
       "parent.postMessage({\"jupyterEvent\": \"custom.exercise_interaction\", \"data\": {\"interactionType\": 2, \"questionType\": 2, \"questionId\": \"3_CandySmashingFunctionProblem\", \"learnToolsVersion\": \"0.3.5\", \"valueTowardsCompletion\": 0.0, \"failureMessage\": \"\", \"exceptionClass\": \"\", \"trace\": \"\", \"outcomeType\": 4}}, \"*\")"
      ],
      "text/plain": [
       "<IPython.core.display.Javascript object>"
      ]
     },
     "metadata": {},
     "output_type": "display_data"
    },
    {
     "data": {
      "text/markdown": [
       "<span style=\"color:#3366cc\">Hint:</span> Refer to the section of the last tutorial notebook where we talked about default arguments"
      ],
      "text/plain": [
       "Hint: Refer to the section of the last tutorial notebook where we talked about default arguments"
      ]
     },
     "metadata": {},
     "output_type": "display_data"
    }
   ],
   "source": [
    "q3.hint()"
   ]
  },
  {
   "cell_type": "code",
   "execution_count": 8,
   "id": "8ff98f37",
   "metadata": {
    "execution": {
     "iopub.execute_input": "2025-05-17T05:49:41.363571Z",
     "iopub.status.busy": "2025-05-17T05:49:41.363152Z",
     "iopub.status.idle": "2025-05-17T05:49:41.368153Z",
     "shell.execute_reply": "2025-05-17T05:49:41.366873Z"
    },
    "papermill": {
     "duration": 0.012443,
     "end_time": "2025-05-17T05:49:41.369847",
     "exception": false,
     "start_time": "2025-05-17T05:49:41.357404",
     "status": "completed"
    },
    "tags": []
   },
   "outputs": [],
   "source": [
    "#q3.solution()"
   ]
  },
  {
   "cell_type": "markdown",
   "id": "5fe623cc",
   "metadata": {
    "papermill": {
     "duration": 0.004209,
     "end_time": "2025-05-17T05:49:41.378593",
     "exception": false,
     "start_time": "2025-05-17T05:49:41.374384",
     "status": "completed"
    },
    "tags": []
   },
   "source": [
    "# 4. (Optional)\n",
    "\n",
    "It may not be fun, but reading and understanding error messages will be an important part of your Python career.\n",
    "\n",
    "Each code cell below contains some commented buggy code. For each cell...\n",
    "\n",
    "1. Read the code and predict what you think will happen when it's run.\n",
    "2. Then uncomment the code and run it to see what happens. (**Tip**: In the kernel editor, you can highlight several lines and press `ctrl`+`/` to toggle commenting.)\n",
    "3. Fix the code (so that it accomplishes its intended purpose without throwing an exception)\n",
    "\n",
    "<!-- TODO: should this be autochecked? Delta is probably pretty small. -->"
   ]
  },
  {
   "cell_type": "code",
   "execution_count": 9,
   "id": "ea7924f7",
   "metadata": {
    "execution": {
     "iopub.execute_input": "2025-05-17T05:49:41.388360Z",
     "iopub.status.busy": "2025-05-17T05:49:41.388095Z",
     "iopub.status.idle": "2025-05-17T05:49:41.393703Z",
     "shell.execute_reply": "2025-05-17T05:49:41.392789Z"
    },
    "papermill": {
     "duration": 0.012202,
     "end_time": "2025-05-17T05:49:41.395124",
     "exception": false,
     "start_time": "2025-05-17T05:49:41.382922",
     "status": "completed"
    },
    "tags": []
   },
   "outputs": [
    {
     "data": {
      "text/plain": [
       "10.0"
      ]
     },
     "execution_count": 9,
     "metadata": {},
     "output_type": "execute_result"
    }
   ],
   "source": [
    " round_to_two_places(9.9999)"
   ]
  },
  {
   "cell_type": "code",
   "execution_count": 10,
   "id": "8c815edf",
   "metadata": {
    "execution": {
     "iopub.execute_input": "2025-05-17T05:49:41.405690Z",
     "iopub.status.busy": "2025-05-17T05:49:41.405344Z",
     "iopub.status.idle": "2025-05-17T05:49:41.410504Z",
     "shell.execute_reply": "2025-05-17T05:49:41.409546Z"
    },
    "papermill": {
     "duration": 0.012485,
     "end_time": "2025-05-17T05:49:41.412132",
     "exception": false,
     "start_time": "2025-05-17T05:49:41.399647",
     "status": "completed"
    },
    "tags": []
   },
   "outputs": [
    {
     "name": "stdout",
     "output_type": "stream",
     "text": [
      "5\n"
     ]
    }
   ],
   "source": [
    " x = -10\n",
    " y = 5\n",
    "# # Which of the two variables above has the smallest absolute value?\n",
    "smallest_abs = min(abs(x), abs(y))\n",
    "print(smallest_abs)"
   ]
  },
  {
   "cell_type": "code",
   "execution_count": 11,
   "id": "a22a5347",
   "metadata": {
    "execution": {
     "iopub.execute_input": "2025-05-17T05:49:41.422980Z",
     "iopub.status.busy": "2025-05-17T05:49:41.422705Z",
     "iopub.status.idle": "2025-05-17T05:49:41.427873Z",
     "shell.execute_reply": "2025-05-17T05:49:41.426906Z"
    },
    "papermill": {
     "duration": 0.011912,
     "end_time": "2025-05-17T05:49:41.429301",
     "exception": false,
     "start_time": "2025-05-17T05:49:41.417389",
     "status": "completed"
    },
    "tags": []
   },
   "outputs": [
    {
     "name": "stdout",
     "output_type": "stream",
     "text": [
      "5\n"
     ]
    }
   ],
   "source": [
    "def f(x):\n",
    "    y = abs(x)\n",
    "    return y\n",
    "\n",
    "print(f(5))"
   ]
  },
  {
   "cell_type": "markdown",
   "id": "7f51f444",
   "metadata": {
    "papermill": {
     "duration": 0.004322,
     "end_time": "2025-05-17T05:49:41.438436",
     "exception": false,
     "start_time": "2025-05-17T05:49:41.434114",
     "status": "completed"
    },
    "tags": []
   },
   "source": [
    "# Keep Going\n",
    "\n",
    "Nice job with the code. Next up, you'll learn about *conditionals*, which you'll need to **[write interesting programs](https://www.kaggle.com/colinmorris/booleans-and-conditionals)**. "
   ]
  },
  {
   "cell_type": "markdown",
   "id": "ba87ab14",
   "metadata": {
    "papermill": {
     "duration": 0.004374,
     "end_time": "2025-05-17T05:49:41.447282",
     "exception": false,
     "start_time": "2025-05-17T05:49:41.442908",
     "status": "completed"
    },
    "tags": []
   },
   "source": [
    "---\n",
    "\n",
    "\n",
    "\n",
    "\n",
    "*Have questions or comments? Visit the [course discussion forum](https://www.kaggle.com/learn/python/discussion) to chat with other learners.*"
   ]
  }
 ],
 "metadata": {
  "kaggle": {
   "accelerator": "none",
   "dataSources": [],
   "isGpuEnabled": false,
   "isInternetEnabled": false,
   "language": "python",
   "sourceType": "notebook"
  },
  "kernelspec": {
   "display_name": "Python 3",
   "language": "python",
   "name": "python3"
  },
  "language_info": {
   "codemirror_mode": {
    "name": "ipython",
    "version": 3
   },
   "file_extension": ".py",
   "mimetype": "text/x-python",
   "name": "python",
   "nbconvert_exporter": "python",
   "pygments_lexer": "ipython3",
   "version": "3.11.11"
  },
  "learntools_metadata": {
   "lesson_index": 1,
   "type": "exercise"
  },
  "papermill": {
   "default_parameters": {},
   "duration": 7.682068,
   "end_time": "2025-05-17T05:49:41.971710",
   "environment_variables": {},
   "exception": null,
   "input_path": "__notebook__.ipynb",
   "output_path": "__notebook__.ipynb",
   "parameters": {},
   "start_time": "2025-05-17T05:49:34.289642",
   "version": "2.6.0"
  }
 },
 "nbformat": 4,
 "nbformat_minor": 5
}
