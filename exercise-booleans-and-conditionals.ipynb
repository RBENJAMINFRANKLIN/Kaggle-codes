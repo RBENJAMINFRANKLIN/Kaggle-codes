{
 "cells": [
  {
   "cell_type": "markdown",
   "id": "34022d5e",
   "metadata": {
    "papermill": {
     "duration": 0.006764,
     "end_time": "2025-05-17T10:09:23.032811",
     "exception": false,
     "start_time": "2025-05-17T10:09:23.026047",
     "status": "completed"
    },
    "tags": []
   },
   "source": [
    "**This notebook is an exercise in the [Python](https://www.kaggle.com/learn/python) course.  You can reference the tutorial at [this link](https://www.kaggle.com/colinmorris/booleans-and-conditionals).**\n",
    "\n",
    "---\n"
   ]
  },
  {
   "cell_type": "markdown",
   "id": "cf11f434",
   "metadata": {
    "papermill": {
     "duration": 0.005439,
     "end_time": "2025-05-17T10:09:23.044393",
     "exception": false,
     "start_time": "2025-05-17T10:09:23.038954",
     "status": "completed"
    },
    "tags": []
   },
   "source": [
    "In this exercise, you'll put to work what you have learned about booleans and conditionals.\n",
    "\n",
    "To get started, **run the setup code below** before writing your own code (and if you leave this notebook and come back later, don't forget to run the setup code again)."
   ]
  },
  {
   "cell_type": "code",
   "execution_count": 1,
   "id": "5bb574a5",
   "metadata": {
    "execution": {
     "iopub.execute_input": "2025-05-17T10:09:23.057542Z",
     "iopub.status.busy": "2025-05-17T10:09:23.057175Z",
     "iopub.status.idle": "2025-05-17T10:09:24.870624Z",
     "shell.execute_reply": "2025-05-17T10:09:24.869714Z"
    },
    "papermill": {
     "duration": 1.821915,
     "end_time": "2025-05-17T10:09:24.872212",
     "exception": false,
     "start_time": "2025-05-17T10:09:23.050297",
     "status": "completed"
    },
    "tags": []
   },
   "outputs": [
    {
     "name": "stdout",
     "output_type": "stream",
     "text": [
      "Setup complete.\n"
     ]
    }
   ],
   "source": [
    "from learntools.core import binder; binder.bind(globals())\n",
    "from learntools.python.ex3 import *\n",
    "print('Setup complete.')"
   ]
  },
  {
   "cell_type": "markdown",
   "id": "71676569",
   "metadata": {
    "papermill": {
     "duration": 0.005484,
     "end_time": "2025-05-17T10:09:24.883802",
     "exception": false,
     "start_time": "2025-05-17T10:09:24.878318",
     "status": "completed"
    },
    "tags": []
   },
   "source": [
    "# 1.\n",
    "\n",
    "Many programming languages have [`sign`](https://en.wikipedia.org/wiki/Sign_function) available as a built-in function. Python doesn't, but we can define our own!\n",
    "\n",
    "In the cell below, define a function called `sign` which takes a numerical argument and returns -1 if it's negative, 1 if it's positive, and 0 if it's 0."
   ]
  },
  {
   "cell_type": "code",
   "execution_count": 2,
   "id": "490fb49c",
   "metadata": {
    "execution": {
     "iopub.execute_input": "2025-05-17T10:09:24.897876Z",
     "iopub.status.busy": "2025-05-17T10:09:24.897513Z",
     "iopub.status.idle": "2025-05-17T10:09:24.906474Z",
     "shell.execute_reply": "2025-05-17T10:09:24.905727Z"
    },
    "papermill": {
     "duration": 0.018254,
     "end_time": "2025-05-17T10:09:24.907861",
     "exception": false,
     "start_time": "2025-05-17T10:09:24.889607",
     "status": "completed"
    },
    "tags": []
   },
   "outputs": [
    {
     "data": {
      "application/javascript": [
       "parent.postMessage({\"jupyterEvent\": \"custom.exercise_interaction\", \"data\": {\"outcomeType\": 1, \"valueTowardsCompletion\": 0.2, \"interactionType\": 1, \"questionType\": 2, \"questionId\": \"1_SignFunctionProblem\", \"learnToolsVersion\": \"0.3.5\", \"failureMessage\": \"\", \"exceptionClass\": \"\", \"trace\": \"\"}}, \"*\")"
      ],
      "text/plain": [
       "<IPython.core.display.Javascript object>"
      ]
     },
     "metadata": {},
     "output_type": "display_data"
    },
    {
     "data": {
      "text/markdown": [
       "<span style=\"color:#33cc33\">Correct</span>"
      ],
      "text/plain": [
       "Correct"
      ]
     },
     "metadata": {},
     "output_type": "display_data"
    }
   ],
   "source": [
    "# Your code goes here. Define a function called 'sign'\n",
    "def sign(num):\n",
    "    if num < 0:\n",
    "        return -1\n",
    "    elif num > 0:\n",
    "        return 1\n",
    "    else:\n",
    "        return 0\n",
    "\n",
    "# Check your answer\n",
    "q1.check()"
   ]
  },
  {
   "cell_type": "code",
   "execution_count": 3,
   "id": "00e898f5",
   "metadata": {
    "execution": {
     "iopub.execute_input": "2025-05-17T10:09:24.921884Z",
     "iopub.status.busy": "2025-05-17T10:09:24.921607Z",
     "iopub.status.idle": "2025-05-17T10:09:24.928123Z",
     "shell.execute_reply": "2025-05-17T10:09:24.927274Z"
    },
    "papermill": {
     "duration": 0.014992,
     "end_time": "2025-05-17T10:09:24.929396",
     "exception": false,
     "start_time": "2025-05-17T10:09:24.914404",
     "status": "completed"
    },
    "tags": []
   },
   "outputs": [
    {
     "data": {
      "application/javascript": [
       "parent.postMessage({\"jupyterEvent\": \"custom.exercise_interaction\", \"data\": {\"interactionType\": 3, \"questionType\": 2, \"questionId\": \"1_SignFunctionProblem\", \"learnToolsVersion\": \"0.3.5\", \"valueTowardsCompletion\": 0.0, \"failureMessage\": \"\", \"exceptionClass\": \"\", \"trace\": \"\", \"outcomeType\": 4}}, \"*\")"
      ],
      "text/plain": [
       "<IPython.core.display.Javascript object>"
      ]
     },
     "metadata": {},
     "output_type": "display_data"
    },
    {
     "data": {
      "text/markdown": [
       "<span style=\"color:#33cc99\">Solution:</span> \n",
       "```python\n",
       "def sign(x):\n",
       "    if x > 0:\n",
       "        return 1\n",
       "    elif x < 0:\n",
       "        return -1\n",
       "    else:\n",
       "        return 0\n",
       "```"
      ],
      "text/plain": [
       "Solution: \n",
       "```python\n",
       "def sign(x):\n",
       "    if x > 0:\n",
       "        return 1\n",
       "    elif x < 0:\n",
       "        return -1\n",
       "    else:\n",
       "        return 0\n",
       "```"
      ]
     },
     "metadata": {},
     "output_type": "display_data"
    }
   ],
   "source": [
    "q1.solution()"
   ]
  },
  {
   "cell_type": "markdown",
   "id": "7a8c9b8d",
   "metadata": {
    "papermill": {
     "duration": 0.005889,
     "end_time": "2025-05-17T10:09:24.941613",
     "exception": false,
     "start_time": "2025-05-17T10:09:24.935724",
     "status": "completed"
    },
    "tags": []
   },
   "source": [
    "# 2.\n",
    "\n",
    "We've decided to add \"logging\" to our `to_smash` function from the previous exercise."
   ]
  },
  {
   "cell_type": "code",
   "execution_count": 4,
   "id": "1ffd9967",
   "metadata": {
    "execution": {
     "iopub.execute_input": "2025-05-17T10:09:24.955765Z",
     "iopub.status.busy": "2025-05-17T10:09:24.955484Z",
     "iopub.status.idle": "2025-05-17T10:09:24.961900Z",
     "shell.execute_reply": "2025-05-17T10:09:24.961081Z"
    },
    "papermill": {
     "duration": 0.015456,
     "end_time": "2025-05-17T10:09:24.963217",
     "exception": false,
     "start_time": "2025-05-17T10:09:24.947761",
     "status": "completed"
    },
    "tags": []
   },
   "outputs": [
    {
     "name": "stdout",
     "output_type": "stream",
     "text": [
      "Splitting 91 candies\n"
     ]
    },
    {
     "data": {
      "text/plain": [
       "1"
      ]
     },
     "execution_count": 4,
     "metadata": {},
     "output_type": "execute_result"
    }
   ],
   "source": [
    "def to_smash(total_candies):\n",
    "    \"\"\"Return the number of leftover candies that must be smashed after distributing\n",
    "    the given number of candies evenly between 3 friends.\n",
    "    \n",
    "    >>> to_smash(91)\n",
    "    1\n",
    "    \"\"\"\n",
    "    print(\"Splitting\", total_candies, \"candies\")\n",
    "    return total_candies % 3\n",
    "\n",
    "to_smash(91)"
   ]
  },
  {
   "cell_type": "markdown",
   "id": "2040398f",
   "metadata": {
    "papermill": {
     "duration": 0.005984,
     "end_time": "2025-05-17T10:09:24.976012",
     "exception": false,
     "start_time": "2025-05-17T10:09:24.970028",
     "status": "completed"
    },
    "tags": []
   },
   "source": [
    "What happens if we call it with `total_candies = 1`?"
   ]
  },
  {
   "cell_type": "code",
   "execution_count": 5,
   "id": "89f776c4",
   "metadata": {
    "execution": {
     "iopub.execute_input": "2025-05-17T10:09:24.989581Z",
     "iopub.status.busy": "2025-05-17T10:09:24.989290Z",
     "iopub.status.idle": "2025-05-17T10:09:24.995276Z",
     "shell.execute_reply": "2025-05-17T10:09:24.994477Z"
    },
    "papermill": {
     "duration": 0.014269,
     "end_time": "2025-05-17T10:09:24.996504",
     "exception": false,
     "start_time": "2025-05-17T10:09:24.982235",
     "status": "completed"
    },
    "tags": []
   },
   "outputs": [
    {
     "name": "stdout",
     "output_type": "stream",
     "text": [
      "Splitting 1 candies\n"
     ]
    },
    {
     "data": {
      "text/plain": [
       "1"
      ]
     },
     "execution_count": 5,
     "metadata": {},
     "output_type": "execute_result"
    }
   ],
   "source": [
    "to_smash(1)"
   ]
  },
  {
   "cell_type": "markdown",
   "id": "b4293193",
   "metadata": {
    "papermill": {
     "duration": 0.006163,
     "end_time": "2025-05-17T10:09:25.009187",
     "exception": false,
     "start_time": "2025-05-17T10:09:25.003024",
     "status": "completed"
    },
    "tags": []
   },
   "source": [
    "That isn't great grammar!\n",
    "\n",
    "Modify the definition in the cell below to correct the grammar of our print statement. (If there's only one candy, we should use the singular \"candy\" instead of the plural \"candies\")"
   ]
  },
  {
   "cell_type": "code",
   "execution_count": 6,
   "id": "ff991a4c",
   "metadata": {
    "execution": {
     "iopub.execute_input": "2025-05-17T10:09:25.023209Z",
     "iopub.status.busy": "2025-05-17T10:09:25.022863Z",
     "iopub.status.idle": "2025-05-17T10:09:25.029508Z",
     "shell.execute_reply": "2025-05-17T10:09:25.028691Z"
    },
    "papermill": {
     "duration": 0.015406,
     "end_time": "2025-05-17T10:09:25.031014",
     "exception": false,
     "start_time": "2025-05-17T10:09:25.015608",
     "status": "completed"
    },
    "tags": []
   },
   "outputs": [
    {
     "name": "stdout",
     "output_type": "stream",
     "text": [
      "Splitting 91 candies\n",
      "Splitting 1 candy\n"
     ]
    },
    {
     "data": {
      "text/plain": [
       "1"
      ]
     },
     "execution_count": 6,
     "metadata": {},
     "output_type": "execute_result"
    }
   ],
   "source": [
    "def to_smash(total_candies):\n",
    "    \"\"\"Return the number of leftover candies that must be smashed after distributing\n",
    "    the given number of candies evenly between 3 friends.\n",
    "    \n",
    "    >>> to_smash(91)\n",
    "    1\n",
    "    \"\"\"\n",
    "\n",
    "    print(\"Splitting\",total_candies,\"candy\" if total_candies ==1 else \"candies\")\n",
    "    return total_candies % 3\n",
    "\n",
    "to_smash(91)\n",
    "to_smash(1)"
   ]
  },
  {
   "cell_type": "markdown",
   "id": "3aebe744",
   "metadata": {
    "papermill": {
     "duration": 0.00637,
     "end_time": "2025-05-17T10:09:25.044209",
     "exception": false,
     "start_time": "2025-05-17T10:09:25.037839",
     "status": "completed"
    },
    "tags": []
   },
   "source": [
    "To get credit for completing this problem, and to see the official answer, run the code cell below."
   ]
  },
  {
   "cell_type": "code",
   "execution_count": 7,
   "id": "7bf0ef94",
   "metadata": {
    "execution": {
     "iopub.execute_input": "2025-05-17T10:09:25.058702Z",
     "iopub.status.busy": "2025-05-17T10:09:25.058409Z",
     "iopub.status.idle": "2025-05-17T10:09:25.065072Z",
     "shell.execute_reply": "2025-05-17T10:09:25.064297Z"
    },
    "papermill": {
     "duration": 0.015433,
     "end_time": "2025-05-17T10:09:25.066518",
     "exception": false,
     "start_time": "2025-05-17T10:09:25.051085",
     "status": "completed"
    },
    "tags": []
   },
   "outputs": [
    {
     "data": {
      "application/javascript": [
       "parent.postMessage({\"jupyterEvent\": \"custom.exercise_interaction\", \"data\": {\"interactionType\": 3, \"questionType\": 4, \"questionId\": \"2_PluralizationProblem\", \"learnToolsVersion\": \"0.3.5\", \"valueTowardsCompletion\": 0.0, \"failureMessage\": \"\", \"exceptionClass\": \"\", \"trace\": \"\", \"outcomeType\": 4}}, \"*\")"
      ],
      "text/plain": [
       "<IPython.core.display.Javascript object>"
      ]
     },
     "metadata": {},
     "output_type": "display_data"
    },
    {
     "data": {
      "text/markdown": [
       "<span style=\"color:#33cc99\">Solution:</span> A straightforward (and totally fine) solution is to replace the original `print` call with:\n",
       "\n",
       "```python\n",
       "if total_candies == 1:\n",
       "    print(\"Splitting 1 candy\")\n",
       "else:\n",
       "    print(\"Splitting\", total_candies, \"candies\")\n",
       "```\n",
       "\n",
       "Here's a slightly more succinct solution using a conditional expression:\n",
       "\n",
       "```python\n",
       "print(\"Splitting\", total_candies, \"candy\" if total_candies == 1 else \"candies\")\n",
       "```"
      ],
      "text/plain": [
       "Solution: A straightforward (and totally fine) solution is to replace the original `print` call with:\n",
       "\n",
       "```python\n",
       "if total_candies == 1:\n",
       "    print(\"Splitting 1 candy\")\n",
       "else:\n",
       "    print(\"Splitting\", total_candies, \"candies\")\n",
       "```\n",
       "\n",
       "Here's a slightly more succinct solution using a conditional expression:\n",
       "\n",
       "```python\n",
       "print(\"Splitting\", total_candies, \"candy\" if total_candies == 1 else \"candies\")\n",
       "```"
      ]
     },
     "metadata": {},
     "output_type": "display_data"
    }
   ],
   "source": [
    "# Check your answer (Run this code cell to receive credit!)\n",
    "q2.solution()"
   ]
  },
  {
   "cell_type": "markdown",
   "id": "8c0dac2f",
   "metadata": {
    "papermill": {
     "duration": 0.0068,
     "end_time": "2025-05-17T10:09:25.080439",
     "exception": false,
     "start_time": "2025-05-17T10:09:25.073639",
     "status": "completed"
    },
    "tags": []
   },
   "source": [
    "# 3. <span title=\"A bit spicy\" style=\"color: darkgreen \">🌶️</span>\n",
    "\n",
    "In the tutorial, we talked about deciding whether we're prepared for the weather. I said that I'm safe from today's weather if...\n",
    "- I have an umbrella...\n",
    "- or if the rain isn't too heavy and I have a hood...\n",
    "- otherwise, I'm still fine unless it's raining *and* it's a workday\n",
    "\n",
    "The function below uses our first attempt at turning this logic into a Python expression. I claimed that there was a bug in that code. Can you find it?\n",
    "\n",
    "To prove that `prepared_for_weather` is buggy, come up with a set of inputs where either:\n",
    "- the function returns `False` (but should have returned `True`), or\n",
    "- the function returned `True` (but should have returned `False`).\n",
    "\n",
    "To get credit for completing this question, your code should return a <font color='#33cc33'>Correct</font> result."
   ]
  },
  {
   "cell_type": "code",
   "execution_count": 8,
   "id": "20e93f08",
   "metadata": {
    "execution": {
     "iopub.execute_input": "2025-05-17T10:09:25.096013Z",
     "iopub.status.busy": "2025-05-17T10:09:25.095590Z",
     "iopub.status.idle": "2025-05-17T10:09:25.104534Z",
     "shell.execute_reply": "2025-05-17T10:09:25.103695Z"
    },
    "papermill": {
     "duration": 0.018415,
     "end_time": "2025-05-17T10:09:25.106007",
     "exception": false,
     "start_time": "2025-05-17T10:09:25.087592",
     "status": "completed"
    },
    "tags": []
   },
   "outputs": [
    {
     "name": "stdout",
     "output_type": "stream",
     "text": [
      "False\n"
     ]
    },
    {
     "data": {
      "application/javascript": [
       "parent.postMessage({\"jupyterEvent\": \"custom.exercise_interaction\", \"data\": {\"outcomeType\": 1, \"valueTowardsCompletion\": 0.2, \"interactionType\": 1, \"questionType\": 1, \"questionId\": \"3_WeatherDebug\", \"learnToolsVersion\": \"0.3.5\", \"failureMessage\": \"\", \"exceptionClass\": \"\", \"trace\": \"\"}}, \"*\")"
      ],
      "text/plain": [
       "<IPython.core.display.Javascript object>"
      ]
     },
     "metadata": {},
     "output_type": "display_data"
    },
    {
     "data": {
      "text/markdown": [
       "<span style=\"color:#33cc33\">Correct:</span> \n",
       "\n",
       "One example of a failing test case is:\n",
       "\n",
       "```python\n",
       "have_umbrella = False\n",
       "rain_level = 0.0\n",
       "have_hood = False\n",
       "is_workday = False\n",
       "```\n",
       "\n",
       "Clearly we're prepared for the weather in this case. It's not raining. Not only that, it's not a workday, so we don't even need to leave the house! But our function will return False on these inputs.\n",
       "\n",
       "The key problem is that Python implictly parenthesizes the last part as:\n",
       "\n",
       "```python\n",
       "(not (rain_level > 0)) and is_workday\n",
       "```\n",
       "\n",
       "Whereas what we were trying to express would look more like:\n",
       "\n",
       "```python\n",
       "not (rain_level > 0 and is_workday)\n",
       "```\n"
      ],
      "text/plain": [
       "Correct: \n",
       "\n",
       "One example of a failing test case is:\n",
       "\n",
       "```python\n",
       "have_umbrella = False\n",
       "rain_level = 0.0\n",
       "have_hood = False\n",
       "is_workday = False\n",
       "```\n",
       "\n",
       "Clearly we're prepared for the weather in this case. It's not raining. Not only that, it's not a workday, so we don't even need to leave the house! But our function will return False on these inputs.\n",
       "\n",
       "The key problem is that Python implictly parenthesizes the last part as:\n",
       "\n",
       "```python\n",
       "(not (rain_level > 0)) and is_workday\n",
       "```\n",
       "\n",
       "Whereas what we were trying to express would look more like:\n",
       "\n",
       "```python\n",
       "not (rain_level > 0 and is_workday)\n",
       "```"
      ]
     },
     "metadata": {},
     "output_type": "display_data"
    }
   ],
   "source": [
    "def prepared_for_weather(have_umbrella, rain_level, have_hood, is_workday):\n",
    "    # Don't change this code. Our goal is just to find the bug, not fix it!\n",
    "    return have_umbrella or rain_level < 5 and have_hood or not rain_level > 0 and is_workday\n",
    "\n",
    "# Change the values of these inputs so they represent a case where prepared_for_weather\n",
    "# returns the wrong answer.\n",
    "have_umbrella = False\n",
    "rain_level = 5.0\n",
    "have_hood = True\n",
    "is_workday = False\n",
    "\n",
    "# Check what the function returns given the current values of the variables above\n",
    "actual = prepared_for_weather(have_umbrella, rain_level, have_hood, is_workday)\n",
    "print(actual)\n",
    "\n",
    "q3.check()"
   ]
  },
  {
   "cell_type": "code",
   "execution_count": 9,
   "id": "ed30c1b2",
   "metadata": {
    "execution": {
     "iopub.execute_input": "2025-05-17T10:09:25.121361Z",
     "iopub.status.busy": "2025-05-17T10:09:25.121104Z",
     "iopub.status.idle": "2025-05-17T10:09:25.130294Z",
     "shell.execute_reply": "2025-05-17T10:09:25.129494Z"
    },
    "papermill": {
     "duration": 0.018324,
     "end_time": "2025-05-17T10:09:25.131560",
     "exception": false,
     "start_time": "2025-05-17T10:09:25.113236",
     "status": "completed"
    },
    "tags": []
   },
   "outputs": [
    {
     "data": {
      "application/javascript": [
       "parent.postMessage({\"jupyterEvent\": \"custom.exercise_interaction\", \"data\": {\"interactionType\": 2, \"questionType\": 1, \"questionId\": \"3_WeatherDebug\", \"learnToolsVersion\": \"0.3.5\", \"valueTowardsCompletion\": 0.0, \"failureMessage\": \"\", \"exceptionClass\": \"\", \"trace\": \"\", \"outcomeType\": 4}}, \"*\")"
      ],
      "text/plain": [
       "<IPython.core.display.Javascript object>"
      ]
     },
     "metadata": {},
     "output_type": "display_data"
    },
    {
     "data": {
      "text/markdown": [
       "<span style=\"color:#3366cc\">Hint:</span> Take a look at how we fixed our original expression in the main lesson. We added parentheses around certain subexpressions. The bug in this code is caused by Python evaluating certain operations in the \"wrong\" order."
      ],
      "text/plain": [
       "Hint: Take a look at how we fixed our original expression in the main lesson. We added parentheses around certain subexpressions. The bug in this code is caused by Python evaluating certain operations in the \"wrong\" order."
      ]
     },
     "metadata": {},
     "output_type": "display_data"
    },
    {
     "data": {
      "application/javascript": [
       "parent.postMessage({\"jupyterEvent\": \"custom.exercise_interaction\", \"data\": {\"interactionType\": 3, \"questionType\": 1, \"questionId\": \"3_WeatherDebug\", \"learnToolsVersion\": \"0.3.5\", \"valueTowardsCompletion\": 0.0, \"failureMessage\": \"\", \"exceptionClass\": \"\", \"trace\": \"\", \"outcomeType\": 4}}, \"*\")"
      ],
      "text/plain": [
       "<IPython.core.display.Javascript object>"
      ]
     },
     "metadata": {},
     "output_type": "display_data"
    },
    {
     "data": {
      "text/markdown": [
       "<span style=\"color:#33cc99\">Solution:</span> One example of a failing test case is:\n",
       "\n",
       "```python\n",
       "have_umbrella = False\n",
       "rain_level = 0.0\n",
       "have_hood = False\n",
       "is_workday = False\n",
       "```\n",
       "\n",
       "Clearly we're prepared for the weather in this case. It's not raining. Not only that, it's not a workday, so we don't even need to leave the house! But our function will return False on these inputs.\n",
       "\n",
       "The key problem is that Python implictly parenthesizes the last part as:\n",
       "\n",
       "```python\n",
       "(not (rain_level > 0)) and is_workday\n",
       "```\n",
       "\n",
       "Whereas what we were trying to express would look more like:\n",
       "\n",
       "```python\n",
       "not (rain_level > 0 and is_workday)\n",
       "```\n"
      ],
      "text/plain": [
       "Solution: One example of a failing test case is:\n",
       "\n",
       "```python\n",
       "have_umbrella = False\n",
       "rain_level = 0.0\n",
       "have_hood = False\n",
       "is_workday = False\n",
       "```\n",
       "\n",
       "Clearly we're prepared for the weather in this case. It's not raining. Not only that, it's not a workday, so we don't even need to leave the house! But our function will return False on these inputs.\n",
       "\n",
       "The key problem is that Python implictly parenthesizes the last part as:\n",
       "\n",
       "```python\n",
       "(not (rain_level > 0)) and is_workday\n",
       "```\n",
       "\n",
       "Whereas what we were trying to express would look more like:\n",
       "\n",
       "```python\n",
       "not (rain_level > 0 and is_workday)\n",
       "```"
      ]
     },
     "metadata": {},
     "output_type": "display_data"
    }
   ],
   "source": [
    "q3.hint()\n",
    "q3.solution()"
   ]
  },
  {
   "cell_type": "markdown",
   "id": "79158e3c",
   "metadata": {
    "papermill": {
     "duration": 0.007142,
     "end_time": "2025-05-17T10:09:25.146326",
     "exception": false,
     "start_time": "2025-05-17T10:09:25.139184",
     "status": "completed"
    },
    "tags": []
   },
   "source": [
    "# 4.\n",
    "\n",
    "The function `is_negative` below is implemented correctly - it returns True if the given number is negative and False otherwise.\n",
    "\n",
    "However, it's more verbose than it needs to be. We can actually reduce the number of lines of code in this function by *75%* while keeping the same behaviour. \n",
    "\n",
    "See if you can come up with an equivalent body that uses just **one line** of code, and put it in the function `concise_is_negative`. (HINT: you don't even need Python's ternary syntax)"
   ]
  },
  {
   "cell_type": "code",
   "execution_count": 10,
   "id": "5340f7f4",
   "metadata": {
    "execution": {
     "iopub.execute_input": "2025-05-17T10:09:25.162228Z",
     "iopub.status.busy": "2025-05-17T10:09:25.161906Z",
     "iopub.status.idle": "2025-05-17T10:09:25.169836Z",
     "shell.execute_reply": "2025-05-17T10:09:25.169093Z"
    },
    "papermill": {
     "duration": 0.017707,
     "end_time": "2025-05-17T10:09:25.171329",
     "exception": false,
     "start_time": "2025-05-17T10:09:25.153622",
     "status": "completed"
    },
    "tags": []
   },
   "outputs": [
    {
     "data": {
      "application/javascript": [
       "parent.postMessage({\"jupyterEvent\": \"custom.exercise_interaction\", \"data\": {\"outcomeType\": 1, \"valueTowardsCompletion\": 0.2, \"interactionType\": 1, \"questionType\": 2, \"questionId\": \"4_ConciseIsNegative\", \"learnToolsVersion\": \"0.3.5\", \"failureMessage\": \"\", \"exceptionClass\": \"\", \"trace\": \"\"}}, \"*\")"
      ],
      "text/plain": [
       "<IPython.core.display.Javascript object>"
      ]
     },
     "metadata": {},
     "output_type": "display_data"
    },
    {
     "data": {
      "text/markdown": [
       "<span style=\"color:#33cc33\">Correct</span>"
      ],
      "text/plain": [
       "Correct"
      ]
     },
     "metadata": {},
     "output_type": "display_data"
    }
   ],
   "source": [
    "def is_negative(number):\n",
    "    if number < 0:\n",
    "        return True\n",
    "    else:\n",
    "        return False\n",
    "\n",
    "def concise_is_negative(number):\n",
    "    return number<0 # Your code goes here (try to keep it to one line!) \n",
    "\n",
    "# Check your answer\n",
    "q4.check()"
   ]
  },
  {
   "cell_type": "code",
   "execution_count": 11,
   "id": "29dff000",
   "metadata": {
    "execution": {
     "iopub.execute_input": "2025-05-17T10:09:25.187611Z",
     "iopub.status.busy": "2025-05-17T10:09:25.187366Z",
     "iopub.status.idle": "2025-05-17T10:09:25.191139Z",
     "shell.execute_reply": "2025-05-17T10:09:25.190246Z"
    },
    "papermill": {
     "duration": 0.01346,
     "end_time": "2025-05-17T10:09:25.192515",
     "exception": false,
     "start_time": "2025-05-17T10:09:25.179055",
     "status": "completed"
    },
    "tags": []
   },
   "outputs": [],
   "source": [
    "#q4.hint()\n",
    "#q4.solution()"
   ]
  },
  {
   "cell_type": "markdown",
   "id": "daef547a",
   "metadata": {
    "papermill": {
     "duration": 0.007622,
     "end_time": "2025-05-17T10:09:25.208012",
     "exception": false,
     "start_time": "2025-05-17T10:09:25.200390",
     "status": "completed"
    },
    "tags": []
   },
   "source": [
    "# 5a.\n",
    "\n",
    "The boolean variables `ketchup`, `mustard` and `onion` represent whether a customer wants a particular topping on their hot dog. We want to implement a number of boolean functions that correspond to some yes-or-no questions about the customer's order. For example:"
   ]
  },
  {
   "cell_type": "code",
   "execution_count": 12,
   "id": "2e0516a4",
   "metadata": {
    "execution": {
     "iopub.execute_input": "2025-05-17T10:09:25.224249Z",
     "iopub.status.busy": "2025-05-17T10:09:25.223979Z",
     "iopub.status.idle": "2025-05-17T10:09:25.228024Z",
     "shell.execute_reply": "2025-05-17T10:09:25.227253Z"
    },
    "papermill": {
     "duration": 0.013701,
     "end_time": "2025-05-17T10:09:25.229276",
     "exception": false,
     "start_time": "2025-05-17T10:09:25.215575",
     "status": "completed"
    },
    "tags": []
   },
   "outputs": [],
   "source": [
    "def onionless(ketchup, mustard, onion):\n",
    "    \"\"\"Return whether the customer doesn't want onions.\n",
    "    \"\"\"\n",
    "    \n",
    "    return not onion"
   ]
  },
  {
   "cell_type": "code",
   "execution_count": 13,
   "id": "8370314c",
   "metadata": {
    "execution": {
     "iopub.execute_input": "2025-05-17T10:09:25.245549Z",
     "iopub.status.busy": "2025-05-17T10:09:25.245306Z",
     "iopub.status.idle": "2025-05-17T10:09:25.252580Z",
     "shell.execute_reply": "2025-05-17T10:09:25.251794Z"
    },
    "papermill": {
     "duration": 0.017009,
     "end_time": "2025-05-17T10:09:25.253822",
     "exception": false,
     "start_time": "2025-05-17T10:09:25.236813",
     "status": "completed"
    },
    "tags": []
   },
   "outputs": [
    {
     "data": {
      "application/javascript": [
       "parent.postMessage({\"jupyterEvent\": \"custom.exercise_interaction\", \"data\": {\"outcomeType\": 1, \"valueTowardsCompletion\": 0.2, \"interactionType\": 1, \"questionType\": 2, \"questionId\": \"5.1_AllToppings\", \"learnToolsVersion\": \"0.3.5\", \"failureMessage\": \"\", \"exceptionClass\": \"\", \"trace\": \"\"}}, \"*\")"
      ],
      "text/plain": [
       "<IPython.core.display.Javascript object>"
      ]
     },
     "metadata": {},
     "output_type": "display_data"
    },
    {
     "data": {
      "text/markdown": [
       "<span style=\"color:#33cc33\">Correct</span>"
      ],
      "text/plain": [
       "Correct"
      ]
     },
     "metadata": {},
     "output_type": "display_data"
    }
   ],
   "source": [
    "def wants_all_toppings(ketchup, mustard, onion):\n",
    "    \"\"\"Return whether the customer wants \"the works\" (all 3 toppings)\n",
    "    \"\"\"\n",
    "    if (ketchup and mustard and onion):\n",
    "        return True\n",
    "    else:\n",
    "        return False\n",
    "        \n",
    "\n",
    "# Check your answer\n",
    "q5.a.check()"
   ]
  },
  {
   "cell_type": "code",
   "execution_count": 14,
   "id": "022b4242",
   "metadata": {
    "execution": {
     "iopub.execute_input": "2025-05-17T10:09:25.270344Z",
     "iopub.status.busy": "2025-05-17T10:09:25.270095Z",
     "iopub.status.idle": "2025-05-17T10:09:25.273735Z",
     "shell.execute_reply": "2025-05-17T10:09:25.272900Z"
    },
    "papermill": {
     "duration": 0.013525,
     "end_time": "2025-05-17T10:09:25.275028",
     "exception": false,
     "start_time": "2025-05-17T10:09:25.261503",
     "status": "completed"
    },
    "tags": []
   },
   "outputs": [],
   "source": [
    "#q5.a.hint()\n",
    "#q5.a.solution()"
   ]
  },
  {
   "cell_type": "markdown",
   "id": "024d89ce",
   "metadata": {
    "papermill": {
     "duration": 0.007549,
     "end_time": "2025-05-17T10:09:25.290397",
     "exception": false,
     "start_time": "2025-05-17T10:09:25.282848",
     "status": "completed"
    },
    "tags": []
   },
   "source": [
    "# 5b.\n",
    "\n",
    "For the next function, fill in the body to match the English description in the docstring. "
   ]
  },
  {
   "cell_type": "code",
   "execution_count": 15,
   "id": "8502a98f",
   "metadata": {
    "execution": {
     "iopub.execute_input": "2025-05-17T10:09:25.365773Z",
     "iopub.status.busy": "2025-05-17T10:09:25.365479Z",
     "iopub.status.idle": "2025-05-17T10:09:25.372459Z",
     "shell.execute_reply": "2025-05-17T10:09:25.371720Z"
    },
    "papermill": {
     "duration": 0.01698,
     "end_time": "2025-05-17T10:09:25.373667",
     "exception": false,
     "start_time": "2025-05-17T10:09:25.356687",
     "status": "completed"
    },
    "tags": []
   },
   "outputs": [
    {
     "data": {
      "application/javascript": [
       "parent.postMessage({\"jupyterEvent\": \"custom.exercise_interaction\", \"data\": {\"outcomeType\": 1, \"valueTowardsCompletion\": 0.2, \"interactionType\": 1, \"questionType\": 2, \"questionId\": \"5.2_PlainDog\", \"learnToolsVersion\": \"0.3.5\", \"failureMessage\": \"\", \"exceptionClass\": \"\", \"trace\": \"\"}}, \"*\")"
      ],
      "text/plain": [
       "<IPython.core.display.Javascript object>"
      ]
     },
     "metadata": {},
     "output_type": "display_data"
    },
    {
     "data": {
      "text/markdown": [
       "<span style=\"color:#33cc33\">Correct:</span> \n",
       "\n",
       "One solution looks like:\n",
       "```python\n",
       "return not ketchup and not mustard and not onion\n",
       "```\n",
       "\n",
       "We can also [\"factor out\" the nots](https://en.wikipedia.org/wiki/De_Morgan%27s_laws) to get:\n",
       "\n",
       "```python\n",
       "return not (ketchup or mustard or onion)\n",
       "```"
      ],
      "text/plain": [
       "Correct: \n",
       "\n",
       "One solution looks like:\n",
       "```python\n",
       "return not ketchup and not mustard and not onion\n",
       "```\n",
       "\n",
       "We can also [\"factor out\" the nots](https://en.wikipedia.org/wiki/De_Morgan%27s_laws) to get:\n",
       "\n",
       "```python\n",
       "return not (ketchup or mustard or onion)\n",
       "```"
      ]
     },
     "metadata": {},
     "output_type": "display_data"
    }
   ],
   "source": [
    "def wants_plain_hotdog(ketchup, mustard, onion):\n",
    "    \"\"\"Return whether the customer wants a plain hot dog with no toppings.\n",
    "    \"\"\"\n",
    "    return not (ketchup or mustard or onion)\n",
    "\n",
    "# Check your answer\n",
    "q5.b.check()"
   ]
  },
  {
   "cell_type": "code",
   "execution_count": 16,
   "id": "75bf1f8e",
   "metadata": {
    "execution": {
     "iopub.execute_input": "2025-05-17T10:09:25.391377Z",
     "iopub.status.busy": "2025-05-17T10:09:25.390821Z",
     "iopub.status.idle": "2025-05-17T10:09:25.397335Z",
     "shell.execute_reply": "2025-05-17T10:09:25.396534Z"
    },
    "papermill": {
     "duration": 0.016648,
     "end_time": "2025-05-17T10:09:25.398647",
     "exception": false,
     "start_time": "2025-05-17T10:09:25.381999",
     "status": "completed"
    },
    "tags": []
   },
   "outputs": [
    {
     "data": {
      "application/javascript": [
       "parent.postMessage({\"jupyterEvent\": \"custom.exercise_interaction\", \"data\": {\"interactionType\": 3, \"questionType\": 2, \"questionId\": \"5.2_PlainDog\", \"learnToolsVersion\": \"0.3.5\", \"valueTowardsCompletion\": 0.0, \"failureMessage\": \"\", \"exceptionClass\": \"\", \"trace\": \"\", \"outcomeType\": 4}}, \"*\")"
      ],
      "text/plain": [
       "<IPython.core.display.Javascript object>"
      ]
     },
     "metadata": {},
     "output_type": "display_data"
    },
    {
     "data": {
      "text/markdown": [
       "<span style=\"color:#33cc99\">Solution:</span> One solution looks like:\n",
       "```python\n",
       "return not ketchup and not mustard and not onion\n",
       "```\n",
       "\n",
       "We can also [\"factor out\" the nots](https://en.wikipedia.org/wiki/De_Morgan%27s_laws) to get:\n",
       "\n",
       "```python\n",
       "return not (ketchup or mustard or onion)\n",
       "```"
      ],
      "text/plain": [
       "Solution: One solution looks like:\n",
       "```python\n",
       "return not ketchup and not mustard and not onion\n",
       "```\n",
       "\n",
       "We can also [\"factor out\" the nots](https://en.wikipedia.org/wiki/De_Morgan%27s_laws) to get:\n",
       "\n",
       "```python\n",
       "return not (ketchup or mustard or onion)\n",
       "```"
      ]
     },
     "metadata": {},
     "output_type": "display_data"
    }
   ],
   "source": [
    "#q5.b.hint()\n",
    "q5.b.solution()"
   ]
  },
  {
   "cell_type": "markdown",
   "id": "e4410a35",
   "metadata": {
    "papermill": {
     "duration": 0.008041,
     "end_time": "2025-05-17T10:09:25.415797",
     "exception": false,
     "start_time": "2025-05-17T10:09:25.407756",
     "status": "completed"
    },
    "tags": []
   },
   "source": [
    "# 5c.\n",
    "\n",
    "You know what to do: for the next function, fill in the body to match the English description in the docstring."
   ]
  },
  {
   "cell_type": "code",
   "execution_count": 17,
   "id": "4ad22deb",
   "metadata": {
    "execution": {
     "iopub.execute_input": "2025-05-17T10:09:25.433843Z",
     "iopub.status.busy": "2025-05-17T10:09:25.433506Z",
     "iopub.status.idle": "2025-05-17T10:09:25.440426Z",
     "shell.execute_reply": "2025-05-17T10:09:25.439706Z"
    },
    "papermill": {
     "duration": 0.017599,
     "end_time": "2025-05-17T10:09:25.441572",
     "exception": false,
     "start_time": "2025-05-17T10:09:25.423973",
     "status": "completed"
    },
    "tags": []
   },
   "outputs": [
    {
     "data": {
      "application/javascript": [
       "parent.postMessage({\"jupyterEvent\": \"custom.exercise_interaction\", \"data\": {\"outcomeType\": 1, \"valueTowardsCompletion\": 0.2, \"interactionType\": 1, \"questionType\": 2, \"questionId\": \"5.3_OneSauce\", \"learnToolsVersion\": \"0.3.5\", \"failureMessage\": \"\", \"exceptionClass\": \"\", \"trace\": \"\"}}, \"*\")"
      ],
      "text/plain": [
       "<IPython.core.display.Javascript object>"
      ]
     },
     "metadata": {},
     "output_type": "display_data"
    },
    {
     "data": {
      "text/markdown": [
       "<span style=\"color:#33cc33\">Correct</span>"
      ],
      "text/plain": [
       "Correct"
      ]
     },
     "metadata": {},
     "output_type": "display_data"
    }
   ],
   "source": [
    "def exactly_one_sauce(ketchup, mustard, onion):\n",
    "    \"\"\"Return whether the customer wants either ketchup or mustard, but not both.\n",
    "    (You may be familiar with this operation under the name \"exclusive or\")\n",
    "    \"\"\"\n",
    "    return (ketchup and not mustard) or (mustard and not ketchup)\n",
    "\n",
    "# Check your answer\n",
    "q5.c.check()"
   ]
  },
  {
   "cell_type": "code",
   "execution_count": 18,
   "id": "da671378",
   "metadata": {
    "execution": {
     "iopub.execute_input": "2025-05-17T10:09:25.459679Z",
     "iopub.status.busy": "2025-05-17T10:09:25.459384Z",
     "iopub.status.idle": "2025-05-17T10:09:25.465866Z",
     "shell.execute_reply": "2025-05-17T10:09:25.465197Z"
    },
    "papermill": {
     "duration": 0.017235,
     "end_time": "2025-05-17T10:09:25.467385",
     "exception": false,
     "start_time": "2025-05-17T10:09:25.450150",
     "status": "completed"
    },
    "tags": []
   },
   "outputs": [
    {
     "data": {
      "application/javascript": [
       "parent.postMessage({\"jupyterEvent\": \"custom.exercise_interaction\", \"data\": {\"interactionType\": 3, \"questionType\": 2, \"questionId\": \"5.3_OneSauce\", \"learnToolsVersion\": \"0.3.5\", \"valueTowardsCompletion\": 0.0, \"failureMessage\": \"\", \"exceptionClass\": \"\", \"trace\": \"\", \"outcomeType\": 4}}, \"*\")"
      ],
      "text/plain": [
       "<IPython.core.display.Javascript object>"
      ]
     },
     "metadata": {},
     "output_type": "display_data"
    },
    {
     "data": {
      "text/markdown": [
       "<span style=\"color:#33cc99\">Solution:</span> \n",
       "```python\n",
       "return (ketchup and not mustard) or (mustard and not ketchup)\n",
       "```"
      ],
      "text/plain": [
       "Solution: \n",
       "```python\n",
       "return (ketchup and not mustard) or (mustard and not ketchup)\n",
       "```"
      ]
     },
     "metadata": {},
     "output_type": "display_data"
    }
   ],
   "source": [
    "#q5.c.hint()\n",
    "q5.c.solution()"
   ]
  },
  {
   "cell_type": "markdown",
   "id": "169e0e10",
   "metadata": {
    "papermill": {
     "duration": 0.00836,
     "end_time": "2025-05-17T10:09:25.484407",
     "exception": false,
     "start_time": "2025-05-17T10:09:25.476047",
     "status": "completed"
    },
    "tags": []
   },
   "source": [
    "# 6. <span title=\"A bit spicy\" style=\"color: darkgreen \">🌶️</span>\n",
    "\n",
    "We’ve seen that calling `bool()` on an integer returns `False` if it’s equal to 0 and `True` otherwise. What happens if we call `int()` on a bool? Try it out in the notebook cell below.\n",
    "\n",
    "Can you take advantage of this to write a succinct function that corresponds to the English sentence \"does the customer want exactly one topping?\"?"
   ]
  },
  {
   "cell_type": "code",
   "execution_count": 19,
   "id": "9c68969f",
   "metadata": {
    "execution": {
     "iopub.execute_input": "2025-05-17T10:09:25.502416Z",
     "iopub.status.busy": "2025-05-17T10:09:25.502135Z",
     "iopub.status.idle": "2025-05-17T10:09:25.508969Z",
     "shell.execute_reply": "2025-05-17T10:09:25.508151Z"
    },
    "papermill": {
     "duration": 0.017536,
     "end_time": "2025-05-17T10:09:25.510388",
     "exception": false,
     "start_time": "2025-05-17T10:09:25.492852",
     "status": "completed"
    },
    "tags": []
   },
   "outputs": [
    {
     "data": {
      "application/javascript": [
       "parent.postMessage({\"jupyterEvent\": \"custom.exercise_interaction\", \"data\": {\"outcomeType\": 1, \"valueTowardsCompletion\": 0.2, \"interactionType\": 1, \"questionType\": 2, \"questionId\": \"6_OneTopping\", \"learnToolsVersion\": \"0.3.5\", \"failureMessage\": \"\", \"exceptionClass\": \"\", \"trace\": \"\"}}, \"*\")"
      ],
      "text/plain": [
       "<IPython.core.display.Javascript object>"
      ]
     },
     "metadata": {},
     "output_type": "display_data"
    },
    {
     "data": {
      "text/markdown": [
       "<span style=\"color:#33cc33\">Correct:</span> \n",
       "\n",
       "This condition would be pretty complicated to express using just `and`, `or` and `not`, but using boolean-to-integer conversion gives us this short solution:\n",
       "```python\n",
       "return (int(ketchup) + int(mustard) + int(onion)) == 1\n",
       "```\n",
       "\n",
       "Fun fact: we don't technically need to call `int` on the arguments. Just by doing addition with booleans, Python implicitly does the integer conversion. So we could also write...\n",
       "\n",
       "```python\n",
       "return (ketchup + mustard + onion) == 1\n",
       "```"
      ],
      "text/plain": [
       "Correct: \n",
       "\n",
       "This condition would be pretty complicated to express using just `and`, `or` and `not`, but using boolean-to-integer conversion gives us this short solution:\n",
       "```python\n",
       "return (int(ketchup) + int(mustard) + int(onion)) == 1\n",
       "```\n",
       "\n",
       "Fun fact: we don't technically need to call `int` on the arguments. Just by doing addition with booleans, Python implicitly does the integer conversion. So we could also write...\n",
       "\n",
       "```python\n",
       "return (ketchup + mustard + onion) == 1\n",
       "```"
      ]
     },
     "metadata": {},
     "output_type": "display_data"
    }
   ],
   "source": [
    "def exactly_one_topping(ketchup, mustard, onion):\n",
    "    \"\"\"Return whether the customer wants exactly one of the three available toppings\n",
    "    on their hot dog.\n",
    "    \"\"\"\n",
    "    return (ketchup + mustard + onion) ==1\n",
    "\n",
    "# Check your answer\n",
    "q6.check()"
   ]
  },
  {
   "cell_type": "code",
   "execution_count": 20,
   "id": "0fa44cbb",
   "metadata": {
    "execution": {
     "iopub.execute_input": "2025-05-17T10:09:25.529338Z",
     "iopub.status.busy": "2025-05-17T10:09:25.529030Z",
     "iopub.status.idle": "2025-05-17T10:09:25.535329Z",
     "shell.execute_reply": "2025-05-17T10:09:25.534494Z"
    },
    "papermill": {
     "duration": 0.01727,
     "end_time": "2025-05-17T10:09:25.536642",
     "exception": false,
     "start_time": "2025-05-17T10:09:25.519372",
     "status": "completed"
    },
    "tags": []
   },
   "outputs": [
    {
     "data": {
      "application/javascript": [
       "parent.postMessage({\"jupyterEvent\": \"custom.exercise_interaction\", \"data\": {\"interactionType\": 3, \"questionType\": 2, \"questionId\": \"6_OneTopping\", \"learnToolsVersion\": \"0.3.5\", \"valueTowardsCompletion\": 0.0, \"failureMessage\": \"\", \"exceptionClass\": \"\", \"trace\": \"\", \"outcomeType\": 4}}, \"*\")"
      ],
      "text/plain": [
       "<IPython.core.display.Javascript object>"
      ]
     },
     "metadata": {},
     "output_type": "display_data"
    },
    {
     "data": {
      "text/markdown": [
       "<span style=\"color:#33cc99\">Solution:</span> This condition would be pretty complicated to express using just `and`, `or` and `not`, but using boolean-to-integer conversion gives us this short solution:\n",
       "```python\n",
       "return (int(ketchup) + int(mustard) + int(onion)) == 1\n",
       "```\n",
       "\n",
       "Fun fact: we don't technically need to call `int` on the arguments. Just by doing addition with booleans, Python implicitly does the integer conversion. So we could also write...\n",
       "\n",
       "```python\n",
       "return (ketchup + mustard + onion) == 1\n",
       "```"
      ],
      "text/plain": [
       "Solution: This condition would be pretty complicated to express using just `and`, `or` and `not`, but using boolean-to-integer conversion gives us this short solution:\n",
       "```python\n",
       "return (int(ketchup) + int(mustard) + int(onion)) == 1\n",
       "```\n",
       "\n",
       "Fun fact: we don't technically need to call `int` on the arguments. Just by doing addition with booleans, Python implicitly does the integer conversion. So we could also write...\n",
       "\n",
       "```python\n",
       "return (ketchup + mustard + onion) == 1\n",
       "```"
      ]
     },
     "metadata": {},
     "output_type": "display_data"
    }
   ],
   "source": [
    "#q6.hint()\n",
    "q6.solution()"
   ]
  },
  {
   "cell_type": "markdown",
   "id": "356fd969",
   "metadata": {
    "papermill": {
     "duration": 0.008644,
     "end_time": "2025-05-17T10:09:25.554636",
     "exception": false,
     "start_time": "2025-05-17T10:09:25.545992",
     "status": "completed"
    },
    "tags": []
   },
   "source": [
    "# 7. <span title=\"A bit spicy\" style=\"color: darkgreen \">🌶️</span> (Optional)\n",
    "\n",
    "In this problem we'll be working with a simplified version of [blackjack](https://en.wikipedia.org/wiki/Blackjack) (aka twenty-one). In this version there is one player (who you'll control) and a dealer. Play proceeds as follows:\n",
    "\n",
    "- The player is dealt two face-up cards. The dealer is dealt one face-up card.\n",
    "- The player may ask to be dealt another card ('hit') as many times as they wish. If the sum of their cards exceeds 21, they lose the round immediately.\n",
    "- The dealer then deals additional cards to himself until either:\n",
    "    - the sum of the dealer's cards exceeds 21, in which case the player wins the round\n",
    "    - the sum of the dealer's cards is greater than or equal to 17. If the player's total is greater than the dealer's, the player wins. Otherwise, the dealer wins (even in case of a tie).\n",
    "    \n",
    "When calculating the sum of cards, Jack, Queen, and King count for 10. Aces can count as 1 or 11 (when referring to a player's \"total\" above, we mean the largest total that can be made without exceeding 21. So e.g. A+8 = 19, A+8+8 = 17)\n",
    "\n",
    "For this problem, you'll write a function representing the player's decision-making strategy in this game. We've provided a very unintelligent implementation below:"
   ]
  },
  {
   "cell_type": "code",
   "execution_count": 21,
   "id": "3cc32e0f",
   "metadata": {
    "execution": {
     "iopub.execute_input": "2025-05-17T10:09:25.574167Z",
     "iopub.status.busy": "2025-05-17T10:09:25.573842Z",
     "iopub.status.idle": "2025-05-17T10:09:25.578278Z",
     "shell.execute_reply": "2025-05-17T10:09:25.577390Z"
    },
    "papermill": {
     "duration": 0.015611,
     "end_time": "2025-05-17T10:09:25.579609",
     "exception": false,
     "start_time": "2025-05-17T10:09:25.563998",
     "status": "completed"
    },
    "tags": []
   },
   "outputs": [],
   "source": [
    "def should_hit(dealer_total, player_total, player_low_aces, player_high_aces):\n",
    "    \"\"\"Return True if the player should hit (request another card) given the current game\n",
    "    state, or False if the player should stay.\n",
    "    When calculating a hand's total value, we count aces as \"high\" (with value 11) if doing so\n",
    "    doesn't bring the total above 21, otherwise we count them as low (with value 1). \n",
    "    For example, if the player's hand is {A, A, A, 7}, we will count it as 11 + 1 + 1 + 7,\n",
    "    and therefore set player_total=20, player_low_aces=2, player_high_aces=1.\n",
    "    \"\"\"\n",
    "    return False"
   ]
  },
  {
   "cell_type": "markdown",
   "id": "11f0acd3",
   "metadata": {
    "papermill": {
     "duration": 0.008865,
     "end_time": "2025-05-17T10:09:25.597774",
     "exception": false,
     "start_time": "2025-05-17T10:09:25.588909",
     "status": "completed"
    },
    "tags": []
   },
   "source": [
    "This very conservative agent *always* sticks with the hand of two cards that they're dealt.\n",
    "\n",
    "We'll be simulating games between your player agent and our own dealer agent by calling your function.\n",
    "\n",
    "Try running the function below to see an example of a simulated game:"
   ]
  },
  {
   "cell_type": "code",
   "execution_count": 22,
   "id": "dafffa13",
   "metadata": {
    "execution": {
     "iopub.execute_input": "2025-05-17T10:09:25.617472Z",
     "iopub.status.busy": "2025-05-17T10:09:25.617170Z",
     "iopub.status.idle": "2025-05-17T10:09:25.621880Z",
     "shell.execute_reply": "2025-05-17T10:09:25.620984Z"
    },
    "papermill": {
     "duration": 0.016385,
     "end_time": "2025-05-17T10:09:25.623239",
     "exception": false,
     "start_time": "2025-05-17T10:09:25.606854",
     "status": "completed"
    },
    "tags": []
   },
   "outputs": [
    {
     "name": "stdout",
     "output_type": "stream",
     "text": [
      "Player starts with K and 4 (total = 14)\n",
      "Dealer starts with 2\n",
      "\n",
      "__Player's turn__\n",
      "Player stays\n",
      "\n",
      "__Dealer's turn__\n",
      "Dealer hits and receives 3. (total = 5)\n",
      "Dealer hits and receives 7. (total = 12)\n",
      "Dealer hits and receives A. (total = 13)\n",
      "Dealer hits and receives 8. (total = 21)\n",
      "Dealer stands.\n",
      "Dealer wins. 21 >= 14\n"
     ]
    }
   ],
   "source": [
    "q7.simulate_one_game()"
   ]
  },
  {
   "cell_type": "markdown",
   "id": "49feca68",
   "metadata": {
    "papermill": {
     "duration": 0.009218,
     "end_time": "2025-05-17T10:09:25.642209",
     "exception": false,
     "start_time": "2025-05-17T10:09:25.632991",
     "status": "completed"
    },
    "tags": []
   },
   "source": [
    "The real test of your agent's mettle is their average win rate over many games. Try calling the function below to simulate 50000 games of blackjack (it may take a couple seconds):"
   ]
  },
  {
   "cell_type": "code",
   "execution_count": 23,
   "id": "70621646",
   "metadata": {
    "execution": {
     "iopub.execute_input": "2025-05-17T10:09:25.663051Z",
     "iopub.status.busy": "2025-05-17T10:09:25.662738Z",
     "iopub.status.idle": "2025-05-17T10:09:26.520362Z",
     "shell.execute_reply": "2025-05-17T10:09:26.519480Z"
    },
    "papermill": {
     "duration": 0.870058,
     "end_time": "2025-05-17T10:09:26.521634",
     "exception": false,
     "start_time": "2025-05-17T10:09:25.651576",
     "status": "completed"
    },
    "tags": []
   },
   "outputs": [
    {
     "name": "stdout",
     "output_type": "stream",
     "text": [
      "Player won 19105 out of 50000 games (win rate = 38.2%)\n"
     ]
    }
   ],
   "source": [
    "q7.simulate(n_games=50000)"
   ]
  },
  {
   "cell_type": "markdown",
   "id": "45a3f4de",
   "metadata": {
    "papermill": {
     "duration": 0.008861,
     "end_time": "2025-05-17T10:09:26.539806",
     "exception": false,
     "start_time": "2025-05-17T10:09:26.530945",
     "status": "completed"
    },
    "tags": []
   },
   "source": [
    "Our dumb agent that completely ignores the game state still manages to win shockingly often!\n",
    "\n",
    "Try adding some more smarts to the `should_hit` function and see how it affects the results."
   ]
  },
  {
   "cell_type": "code",
   "execution_count": 24,
   "id": "7a3d28ea",
   "metadata": {
    "execution": {
     "iopub.execute_input": "2025-05-17T10:09:26.559156Z",
     "iopub.status.busy": "2025-05-17T10:09:26.558837Z",
     "iopub.status.idle": "2025-05-17T10:09:27.453179Z",
     "shell.execute_reply": "2025-05-17T10:09:27.452346Z"
    },
    "papermill": {
     "duration": 0.905583,
     "end_time": "2025-05-17T10:09:27.454479",
     "exception": false,
     "start_time": "2025-05-17T10:09:26.548896",
     "status": "completed"
    },
    "tags": []
   },
   "outputs": [
    {
     "name": "stdout",
     "output_type": "stream",
     "text": [
      "Player won 18964 out of 50000 games (win rate = 37.9%)\n"
     ]
    }
   ],
   "source": [
    "def should_hit(dealer_total, player_total, player_low_aces, player_high_aces):\n",
    "    \"\"\"Return True if the player should hit (request another card) given the current game\n",
    "    state, or False if the player should stay.\n",
    "    When calculating a hand's total value, we count aces as \"high\" (with value 11) if doing so\n",
    "    doesn't bring the total above 21, otherwise we count them as low (with value 1). \n",
    "    For example, if the player's hand is {A, A, A, 7}, we will count it as 11 + 1 + 1 + 7,\n",
    "    and therefore set player_total=20, player_low_aces=2, player_high_aces=1.\n",
    "    \"\"\"\n",
    "    return False\n",
    "\n",
    "q7.simulate(n_games=50000)"
   ]
  },
  {
   "cell_type": "markdown",
   "id": "b3814153",
   "metadata": {
    "papermill": {
     "duration": 0.009105,
     "end_time": "2025-05-17T10:09:27.473123",
     "exception": false,
     "start_time": "2025-05-17T10:09:27.464018",
     "status": "completed"
    },
    "tags": []
   },
   "source": [
    "# Keep Going\n",
    "\n",
    "Learn about **[lists and tuples](https://www.kaggle.com/colinmorris/lists)** to handle multiple items of data in a systematic way."
   ]
  },
  {
   "cell_type": "markdown",
   "id": "17e0e978",
   "metadata": {
    "papermill": {
     "duration": 0.009049,
     "end_time": "2025-05-17T10:09:27.491333",
     "exception": false,
     "start_time": "2025-05-17T10:09:27.482284",
     "status": "completed"
    },
    "tags": []
   },
   "source": [
    "---\n",
    "\n",
    "\n",
    "\n",
    "\n",
    "*Have questions or comments? Visit the [course discussion forum](https://www.kaggle.com/learn/python/discussion) to chat with other learners.*"
   ]
  }
 ],
 "metadata": {
  "kaggle": {
   "accelerator": "none",
   "dataSources": [],
   "isGpuEnabled": false,
   "isInternetEnabled": false,
   "language": "python",
   "sourceType": "notebook"
  },
  "kernelspec": {
   "display_name": "Python 3",
   "language": "python",
   "name": "python3"
  },
  "language_info": {
   "codemirror_mode": {
    "name": "ipython",
    "version": 3
   },
   "file_extension": ".py",
   "mimetype": "text/x-python",
   "name": "python",
   "nbconvert_exporter": "python",
   "pygments_lexer": "ipython3",
   "version": "3.11.11"
  },
  "learntools_metadata": {
   "lesson_index": 2,
   "type": "exercise"
  },
  "papermill": {
   "default_parameters": {},
   "duration": 9.563053,
   "end_time": "2025-05-17T10:09:28.023130",
   "environment_variables": {},
   "exception": null,
   "input_path": "__notebook__.ipynb",
   "output_path": "__notebook__.ipynb",
   "parameters": {},
   "start_time": "2025-05-17T10:09:18.460077",
   "version": "2.6.0"
  }
 },
 "nbformat": 4,
 "nbformat_minor": 5
}
